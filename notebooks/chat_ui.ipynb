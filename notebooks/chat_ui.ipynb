{
 "cells": [
  {
   "attachments": {},
   "cell_type": "markdown",
   "metadata": {},
   "source": [
    "# Chat UI\n",
    "This notebook demonstrates how to set up a chat with a system prompt that sets the context for the conversation."
   ]
  },
  {
   "attachments": {},
   "cell_type": "markdown",
   "metadata": {},
   "source": [
    "## Setup\n",
    "\n",
    "### Install packages\n",
    "First, install the required Python packages."
   ]
  },
  {
   "cell_type": "code",
   "execution_count": null,
   "metadata": {},
   "outputs": [],
   "source": [
    "# Install all required PIP packages.\n",
    "!pip install -r ../requirements.txt"
   ]
  },
  {
   "attachments": {},
   "cell_type": "markdown",
   "metadata": {},
   "source": [
    "### Run all diagnostic tests\n",
    "This checks the code in the project to ensure that it works, before running it for real.  This includes code for things like: loading the OpenAI API key."
   ]
  },
  {
   "cell_type": "code",
   "execution_count": null,
   "metadata": {},
   "outputs": [],
   "source": [
    "import sys\n",
    "import os\n",
    "import unittest\n",
    "from pathlib import Path\n",
    "\n",
    "# Add the tests directory to the Python path\n",
    "project_root = str(Path.cwd().parent)\n",
    "if project_root not in sys.path:\n",
    "    sys.path.insert(0, project_root)\n",
    "\n",
    "# Use the unittest module to discover and run all tests in the directory\n",
    "test_suite = unittest.defaultTestLoader.discover('tests')\n",
    "unittest.TextTestRunner().run(test_suite)"
   ]
  },
  {
   "attachments": {},
   "cell_type": "markdown",
   "metadata": {},
   "source": [
    "### Load OpenAI API key\n",
    "Next, load the key from `config/openai_api_key.txt`.  The code will validate that the file contains something that looks like a valid key, but it will not test the key against the API.  It also supports the shared location `~/.openai/api_key.txt`, if you have multiple projects like this that need to use that key."
   ]
  },
  {
   "cell_type": "code",
   "execution_count": null,
   "metadata": {},
   "outputs": [],
   "source": [
    "import openai\n",
    "\n",
    "# Load the module for loading the OpenAI key.\n",
    "from lib import load_openai_api_key\n",
    "\n",
    "# Load the OpenAI key.\n",
    "openai.api_key = load_openai_api_key.load_openai_api_key()\n",
    "\n",
    "print(\"✅ Loaded OpenAI API key.\")"
   ]
  },
  {
   "attachments": {},
   "cell_type": "markdown",
   "metadata": {},
   "source": [
    "### Read the system prompt\n",
    "Load the [system_prompts/default.txt](system_prompts/default.txt) file by default."
   ]
  },
  {
   "cell_type": "code",
   "execution_count": null,
   "metadata": {},
   "outputs": [],
   "source": [
    "import os\n",
    "import ipywidgets\n",
    "from IPython.display import HTML, display\n",
    "\n",
    "# Read the system prompt from system_prompt.txt\n",
    "current_dir = os.path.abspath(os.getcwd())  # Get the current working directory\n",
    "system_prompts_dir = os.path.join(current_dir, '..', 'system_prompts')  # Move to the parallel folder\n",
    "system_prompt_file = os.path.join(system_prompts_dir, 'default.txt')  # Join the file path\n",
    "\n",
    "# Define the default base prompt and user input prompt\n",
    "with open(system_prompt_file, 'r') as f:\n",
    "    system_prompt = f.read().strip()\n",
    "\n",
    "loading_openai_key_widget = ipywidgets.Output()\n",
    "loading_openai_key_widget.layout.margin = \"0px 20px 0px 20px\"\n",
    "loading_openai_key_widget.layout.overflow_y = \"scroll\"\n",
    "loading_openai_key_widget.layout.max_height = \"300px\"\n",
    "display(loading_openai_key_widget)\n",
    "\n",
    "with loading_openai_key_widget:\n",
    "    display(HTML('<h1>System prompt</h1>'))\n",
    "    display(HTML('<p>' + system_prompt + '</p>'))\n"
   ]
  },
  {
   "attachments": {},
   "cell_type": "markdown",
   "metadata": {},
   "source": [
    "## Chat session\n",
    "Here's where you can start a chat."
   ]
  },
  {
   "cell_type": "code",
   "execution_count": null,
   "metadata": {},
   "outputs": [],
   "source": [
    "# This stuff is about automatically reloading the lib module when it changes.\n",
    "import importlib\n",
    "import sys\n",
    "import os\n",
    "\n",
    "# Get the absolute path to the lib directory\n",
    "lib_dir = os.path.abspath(os.path.join(os.getcwd(), '..', 'lib'))\n",
    "\n",
    "# Add the directory containing the lib module to the search path\n",
    "sys.path.append(lib_dir)\n",
    "\n",
    "import lib.ipywidgets_ui\n",
    "\n",
    "# Force reload the module\n",
    "importlib.reload(lib.ipywidgets_ui)\n",
    "\n",
    "from lib import ipywidgets_ui\n",
    "\n",
    "# Start the chat with an initial system message\n",
    "initial_system_message = {\"role\": \"system\", \"content\": system_prompt}\n",
    "ipywidgets_ui.display_new_form([initial_system_message])\n"
   ]
  }
 ],
 "metadata": {
  "kernelspec": {
   "display_name": "default-vscode-jupyter",
   "language": "python",
   "name": "python3"
  },
  "language_info": {
   "codemirror_mode": {
    "name": "ipython",
    "version": 3
   },
   "file_extension": ".py",
   "mimetype": "text/x-python",
   "name": "python",
   "nbconvert_exporter": "python",
   "pygments_lexer": "ipython3",
   "version": "3.11.2"
  },
  "orig_nbformat": 4
 },
 "nbformat": 4,
 "nbformat_minor": 2
}
