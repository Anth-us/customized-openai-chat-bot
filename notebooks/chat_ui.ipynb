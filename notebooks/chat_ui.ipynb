{
 "cells": [
  {
   "attachments": {},
   "cell_type": "markdown",
   "metadata": {},
   "source": [
    "# Chat UI\n",
    "This notebook demonstrates how to set up a chat with a system prompt that sets the context for the conversation."
   ]
  },
  {
   "attachments": {},
   "cell_type": "markdown",
   "metadata": {},
   "source": [
    "## Setup\n",
    "\n",
    "### Install packages\n",
    "First, install the required Python packages."
   ]
  },
  {
   "cell_type": "code",
   "execution_count": 1,
   "metadata": {},
   "outputs": [
    {
     "name": "stdout",
     "output_type": "stream",
     "text": [
      "Requirement already satisfied: openai in /Users/work/anaconda3/envs/default-vscode-jupyter/lib/python3.11/site-packages (from -r ../requirements.txt (line 1)) (0.27.2)\n",
      "Requirement already satisfied: ipywidgets in /Users/work/anaconda3/envs/default-vscode-jupyter/lib/python3.11/site-packages (from -r ../requirements.txt (line 2)) (8.0.6)\n",
      "Requirement already satisfied: requests>=2.20 in /Users/work/anaconda3/envs/default-vscode-jupyter/lib/python3.11/site-packages (from openai->-r ../requirements.txt (line 1)) (2.28.2)\n",
      "Requirement already satisfied: tqdm in /Users/work/anaconda3/envs/default-vscode-jupyter/lib/python3.11/site-packages (from openai->-r ../requirements.txt (line 1)) (4.65.0)\n",
      "Requirement already satisfied: aiohttp in /Users/work/anaconda3/envs/default-vscode-jupyter/lib/python3.11/site-packages (from openai->-r ../requirements.txt (line 1)) (3.8.4)\n",
      "Requirement already satisfied: ipykernel>=4.5.1 in /Users/work/anaconda3/envs/default-vscode-jupyter/lib/python3.11/site-packages (from ipywidgets->-r ../requirements.txt (line 2)) (6.22.0)\n",
      "Requirement already satisfied: ipython>=6.1.0 in /Users/work/anaconda3/envs/default-vscode-jupyter/lib/python3.11/site-packages (from ipywidgets->-r ../requirements.txt (line 2)) (8.12.0)\n",
      "Requirement already satisfied: traitlets>=4.3.1 in /Users/work/anaconda3/envs/default-vscode-jupyter/lib/python3.11/site-packages (from ipywidgets->-r ../requirements.txt (line 2)) (5.9.0)\n",
      "Requirement already satisfied: widgetsnbextension~=4.0.7 in /Users/work/anaconda3/envs/default-vscode-jupyter/lib/python3.11/site-packages (from ipywidgets->-r ../requirements.txt (line 2)) (4.0.7)\n",
      "Requirement already satisfied: jupyterlab-widgets~=3.0.7 in /Users/work/anaconda3/envs/default-vscode-jupyter/lib/python3.11/site-packages (from ipywidgets->-r ../requirements.txt (line 2)) (3.0.7)\n",
      "Requirement already satisfied: appnope in /Users/work/anaconda3/envs/default-vscode-jupyter/lib/python3.11/site-packages (from ipykernel>=4.5.1->ipywidgets->-r ../requirements.txt (line 2)) (0.1.3)\n",
      "Requirement already satisfied: comm>=0.1.1 in /Users/work/anaconda3/envs/default-vscode-jupyter/lib/python3.11/site-packages (from ipykernel>=4.5.1->ipywidgets->-r ../requirements.txt (line 2)) (0.1.3)\n",
      "Requirement already satisfied: debugpy>=1.6.5 in /Users/work/anaconda3/envs/default-vscode-jupyter/lib/python3.11/site-packages (from ipykernel>=4.5.1->ipywidgets->-r ../requirements.txt (line 2)) (1.6.6)\n",
      "Requirement already satisfied: jupyter-client>=6.1.12 in /Users/work/anaconda3/envs/default-vscode-jupyter/lib/python3.11/site-packages (from ipykernel>=4.5.1->ipywidgets->-r ../requirements.txt (line 2)) (8.1.0)\n",
      "Requirement already satisfied: jupyter-core!=5.0.*,>=4.12 in /Users/work/anaconda3/envs/default-vscode-jupyter/lib/python3.11/site-packages (from ipykernel>=4.5.1->ipywidgets->-r ../requirements.txt (line 2)) (5.3.0)\n",
      "Requirement already satisfied: matplotlib-inline>=0.1 in /Users/work/anaconda3/envs/default-vscode-jupyter/lib/python3.11/site-packages (from ipykernel>=4.5.1->ipywidgets->-r ../requirements.txt (line 2)) (0.1.6)\n",
      "Requirement already satisfied: nest-asyncio in /Users/work/anaconda3/envs/default-vscode-jupyter/lib/python3.11/site-packages (from ipykernel>=4.5.1->ipywidgets->-r ../requirements.txt (line 2)) (1.5.6)\n",
      "Requirement already satisfied: packaging in /Users/work/anaconda3/envs/default-vscode-jupyter/lib/python3.11/site-packages (from ipykernel>=4.5.1->ipywidgets->-r ../requirements.txt (line 2)) (23.0)\n",
      "Requirement already satisfied: psutil in /Users/work/anaconda3/envs/default-vscode-jupyter/lib/python3.11/site-packages (from ipykernel>=4.5.1->ipywidgets->-r ../requirements.txt (line 2)) (5.9.4)\n",
      "Requirement already satisfied: pyzmq>=20 in /Users/work/anaconda3/envs/default-vscode-jupyter/lib/python3.11/site-packages (from ipykernel>=4.5.1->ipywidgets->-r ../requirements.txt (line 2)) (25.0.2)\n",
      "Requirement already satisfied: tornado>=6.1 in /Users/work/anaconda3/envs/default-vscode-jupyter/lib/python3.11/site-packages (from ipykernel>=4.5.1->ipywidgets->-r ../requirements.txt (line 2)) (6.2)\n",
      "Requirement already satisfied: backcall in /Users/work/anaconda3/envs/default-vscode-jupyter/lib/python3.11/site-packages (from ipython>=6.1.0->ipywidgets->-r ../requirements.txt (line 2)) (0.2.0)\n",
      "Requirement already satisfied: decorator in /Users/work/anaconda3/envs/default-vscode-jupyter/lib/python3.11/site-packages (from ipython>=6.1.0->ipywidgets->-r ../requirements.txt (line 2)) (5.1.1)\n",
      "Requirement already satisfied: jedi>=0.16 in /Users/work/anaconda3/envs/default-vscode-jupyter/lib/python3.11/site-packages (from ipython>=6.1.0->ipywidgets->-r ../requirements.txt (line 2)) (0.18.2)\n",
      "Requirement already satisfied: pickleshare in /Users/work/anaconda3/envs/default-vscode-jupyter/lib/python3.11/site-packages (from ipython>=6.1.0->ipywidgets->-r ../requirements.txt (line 2)) (0.7.5)\n",
      "Requirement already satisfied: prompt-toolkit!=3.0.37,<3.1.0,>=3.0.30 in /Users/work/anaconda3/envs/default-vscode-jupyter/lib/python3.11/site-packages (from ipython>=6.1.0->ipywidgets->-r ../requirements.txt (line 2)) (3.0.38)\n",
      "Requirement already satisfied: pygments>=2.4.0 in /Users/work/anaconda3/envs/default-vscode-jupyter/lib/python3.11/site-packages (from ipython>=6.1.0->ipywidgets->-r ../requirements.txt (line 2)) (2.14.0)\n",
      "Requirement already satisfied: stack-data in /Users/work/anaconda3/envs/default-vscode-jupyter/lib/python3.11/site-packages (from ipython>=6.1.0->ipywidgets->-r ../requirements.txt (line 2)) (0.6.2)\n",
      "Requirement already satisfied: pexpect>4.3 in /Users/work/anaconda3/envs/default-vscode-jupyter/lib/python3.11/site-packages (from ipython>=6.1.0->ipywidgets->-r ../requirements.txt (line 2)) (4.8.0)\n",
      "Requirement already satisfied: charset-normalizer<4,>=2 in /Users/work/anaconda3/envs/default-vscode-jupyter/lib/python3.11/site-packages (from requests>=2.20->openai->-r ../requirements.txt (line 1)) (3.1.0)\n",
      "Requirement already satisfied: idna<4,>=2.5 in /Users/work/anaconda3/envs/default-vscode-jupyter/lib/python3.11/site-packages (from requests>=2.20->openai->-r ../requirements.txt (line 1)) (3.4)\n",
      "Requirement already satisfied: urllib3<1.27,>=1.21.1 in /Users/work/anaconda3/envs/default-vscode-jupyter/lib/python3.11/site-packages (from requests>=2.20->openai->-r ../requirements.txt (line 1)) (1.26.15)\n",
      "Requirement already satisfied: certifi>=2017.4.17 in /Users/work/anaconda3/envs/default-vscode-jupyter/lib/python3.11/site-packages (from requests>=2.20->openai->-r ../requirements.txt (line 1)) (2022.12.7)\n",
      "Requirement already satisfied: attrs>=17.3.0 in /Users/work/anaconda3/envs/default-vscode-jupyter/lib/python3.11/site-packages (from aiohttp->openai->-r ../requirements.txt (line 1)) (22.2.0)\n",
      "Requirement already satisfied: multidict<7.0,>=4.5 in /Users/work/anaconda3/envs/default-vscode-jupyter/lib/python3.11/site-packages (from aiohttp->openai->-r ../requirements.txt (line 1)) (6.0.4)\n",
      "Requirement already satisfied: async-timeout<5.0,>=4.0.0a3 in /Users/work/anaconda3/envs/default-vscode-jupyter/lib/python3.11/site-packages (from aiohttp->openai->-r ../requirements.txt (line 1)) (4.0.2)\n",
      "Requirement already satisfied: yarl<2.0,>=1.0 in /Users/work/anaconda3/envs/default-vscode-jupyter/lib/python3.11/site-packages (from aiohttp->openai->-r ../requirements.txt (line 1)) (1.8.2)\n",
      "Requirement already satisfied: frozenlist>=1.1.1 in /Users/work/anaconda3/envs/default-vscode-jupyter/lib/python3.11/site-packages (from aiohttp->openai->-r ../requirements.txt (line 1)) (1.3.3)\n",
      "Requirement already satisfied: aiosignal>=1.1.2 in /Users/work/anaconda3/envs/default-vscode-jupyter/lib/python3.11/site-packages (from aiohttp->openai->-r ../requirements.txt (line 1)) (1.3.1)\n",
      "Requirement already satisfied: parso<0.9.0,>=0.8.0 in /Users/work/anaconda3/envs/default-vscode-jupyter/lib/python3.11/site-packages (from jedi>=0.16->ipython>=6.1.0->ipywidgets->-r ../requirements.txt (line 2)) (0.8.3)\n",
      "Requirement already satisfied: python-dateutil>=2.8.2 in /Users/work/anaconda3/envs/default-vscode-jupyter/lib/python3.11/site-packages (from jupyter-client>=6.1.12->ipykernel>=4.5.1->ipywidgets->-r ../requirements.txt (line 2)) (2.8.2)\n",
      "Requirement already satisfied: platformdirs>=2.5 in /Users/work/anaconda3/envs/default-vscode-jupyter/lib/python3.11/site-packages (from jupyter-core!=5.0.*,>=4.12->ipykernel>=4.5.1->ipywidgets->-r ../requirements.txt (line 2)) (3.2.0)\n",
      "Requirement already satisfied: ptyprocess>=0.5 in /Users/work/anaconda3/envs/default-vscode-jupyter/lib/python3.11/site-packages (from pexpect>4.3->ipython>=6.1.0->ipywidgets->-r ../requirements.txt (line 2)) (0.7.0)\n",
      "Requirement already satisfied: wcwidth in /Users/work/anaconda3/envs/default-vscode-jupyter/lib/python3.11/site-packages (from prompt-toolkit!=3.0.37,<3.1.0,>=3.0.30->ipython>=6.1.0->ipywidgets->-r ../requirements.txt (line 2)) (0.2.6)\n",
      "Requirement already satisfied: executing>=1.2.0 in /Users/work/anaconda3/envs/default-vscode-jupyter/lib/python3.11/site-packages (from stack-data->ipython>=6.1.0->ipywidgets->-r ../requirements.txt (line 2)) (1.2.0)\n",
      "Requirement already satisfied: asttokens>=2.1.0 in /Users/work/anaconda3/envs/default-vscode-jupyter/lib/python3.11/site-packages (from stack-data->ipython>=6.1.0->ipywidgets->-r ../requirements.txt (line 2)) (2.2.1)\n",
      "Requirement already satisfied: pure-eval in /Users/work/anaconda3/envs/default-vscode-jupyter/lib/python3.11/site-packages (from stack-data->ipython>=6.1.0->ipywidgets->-r ../requirements.txt (line 2)) (0.2.2)\n",
      "Requirement already satisfied: six in /Users/work/anaconda3/envs/default-vscode-jupyter/lib/python3.11/site-packages (from asttokens>=2.1.0->stack-data->ipython>=6.1.0->ipywidgets->-r ../requirements.txt (line 2)) (1.16.0)\n"
     ]
    }
   ],
   "source": [
    "# Install all required PIP packages.\n",
    "!pip install -r ../requirements.txt"
   ]
  },
  {
   "attachments": {},
   "cell_type": "markdown",
   "metadata": {},
   "source": [
    "### Run all diagnostic tests\n",
    "This checks the code in the project to ensure that it works, before running it for real.  This includes code for things like: loading the OpenAI API key."
   ]
  },
  {
   "cell_type": "code",
   "execution_count": 2,
   "metadata": {},
   "outputs": [
    {
     "name": "stderr",
     "output_type": "stream",
     "text": [
      ".....\n",
      "----------------------------------------------------------------------\n",
      "Ran 5 tests in 0.012s\n",
      "\n",
      "OK\n"
     ]
    },
    {
     "data": {
      "text/plain": [
       "<unittest.runner.TextTestResult run=5 errors=0 failures=0>"
      ]
     },
     "execution_count": 2,
     "metadata": {},
     "output_type": "execute_result"
    }
   ],
   "source": [
    "import sys\n",
    "import os\n",
    "import unittest\n",
    "from pathlib import Path\n",
    "\n",
    "# Add the tests directory to the Python path\n",
    "project_root = str(Path.cwd().parent)\n",
    "if project_root not in sys.path:\n",
    "    sys.path.insert(0, project_root)\n",
    "\n",
    "# Use the unittest module to discover and run all tests in the directory\n",
    "test_suite = unittest.defaultTestLoader.discover('tests')\n",
    "unittest.TextTestRunner().run(test_suite)"
   ]
  },
  {
   "attachments": {},
   "cell_type": "markdown",
   "metadata": {},
   "source": [
    "### Load OpenAI API key\n",
    "Next, load the key from `config/openai_api_key.txt`.  The code will validate that the file contains something that looks like a valid key, but it will not test the key against the API.  It also supports the shared location `~/.openai/api_key.txt`, if you have multiple projects like this that need to use that key."
   ]
  },
  {
   "cell_type": "code",
   "execution_count": 3,
   "metadata": {},
   "outputs": [
    {
     "name": "stdout",
     "output_type": "stream",
     "text": [
      "✅ Loaded OpenAI API key.\n"
     ]
    }
   ],
   "source": [
    "import openai\n",
    "\n",
    "# Load the module for loading the OpenAI key.\n",
    "from lib import load_openai_api_key\n",
    "\n",
    "# Load the OpenAI key.\n",
    "openai.api_key = load_openai_api_key.load_openai_api_key()\n",
    "\n",
    "print(\"✅ Loaded OpenAI API key.\")"
   ]
  },
  {
   "attachments": {},
   "cell_type": "markdown",
   "metadata": {},
   "source": [
    "### Read the system prompt\n",
    "Load the [system_prompts/default.txt](system_prompts/default.txt) file by default."
   ]
  },
  {
   "cell_type": "code",
   "execution_count": 4,
   "metadata": {},
   "outputs": [
    {
     "data": {
      "application/vnd.jupyter.widget-view+json": {
       "model_id": "7f583067897845a5a2a764ff3b182e2a",
       "version_major": 2,
       "version_minor": 0
      },
      "text/plain": [
       "Output(layout=Layout(margin='0px 20px 0px 20px', max_height='300px'))"
      ]
     },
     "metadata": {},
     "output_type": "display_data"
    }
   ],
   "source": [
    "import os\n",
    "import ipywidgets\n",
    "from IPython.display import HTML, display\n",
    "\n",
    "# Read the system prompt from system_prompt.txt\n",
    "current_dir = os.path.abspath(os.getcwd())  # Get the current working directory\n",
    "system_prompts_dir = os.path.join(current_dir, '..', 'system_prompts')  # Move to the parallel folder\n",
    "system_prompt_file = os.path.join(system_prompts_dir, 'default.txt')  # Join the file path\n",
    "\n",
    "# Define the default base prompt and user input prompt\n",
    "with open(system_prompt_file, 'r') as f:\n",
    "    system_prompt = f.read().strip()\n",
    "\n",
    "loading_openai_key_widget = ipywidgets.Output()\n",
    "loading_openai_key_widget.layout.margin = \"0px 20px 0px 20px\"\n",
    "loading_openai_key_widget.layout.overflow_y = \"scroll\"\n",
    "loading_openai_key_widget.layout.max_height = \"300px\"\n",
    "display(loading_openai_key_widget)\n",
    "\n",
    "with loading_openai_key_widget:\n",
    "    display(HTML('<h1>System prompt</h1>'))\n",
    "    display(HTML('<p>' + system_prompt + '</p>'))\n"
   ]
  },
  {
   "attachments": {},
   "cell_type": "markdown",
   "metadata": {},
   "source": [
    "## Chat session\n",
    "Here's where you can start a chat."
   ]
  },
  {
   "cell_type": "code",
   "execution_count": 5,
   "metadata": {},
   "outputs": [
    {
     "data": {
      "application/vnd.jupyter.widget-view+json": {
       "model_id": "cf11ca9c3b10447c989e48e3c097e9b0",
       "version_major": 2,
       "version_minor": 0
      },
      "text/plain": [
       "Text(value='', layout=Layout(width='100%'), placeholder='Enter your message...')"
      ]
     },
     "metadata": {},
     "output_type": "display_data"
    },
    {
     "data": {
      "application/vnd.jupyter.widget-view+json": {
       "model_id": "56f8bce91e014894bc3862eee43518c0",
       "version_major": 2,
       "version_minor": 0
      },
      "text/plain": [
       "Button(button_style='success', description='Send', style=ButtonStyle())"
      ]
     },
     "metadata": {},
     "output_type": "display_data"
    },
    {
     "data": {
      "application/vnd.jupyter.widget-view+json": {
       "model_id": "45fc0db2252147f9a4f18b9e84ec9f0e",
       "version_major": 2,
       "version_minor": 0
      },
      "text/plain": [
       "Output()"
      ]
     },
     "metadata": {},
     "output_type": "display_data"
    },
    {
     "ename": "InvalidRequestError",
     "evalue": "[{'role': 'system', 'content': 'You are a friendly clerk at a hardware store.'}] is not of type 'object' - 'messages.0'",
     "output_type": "error",
     "traceback": [
      "\u001b[0;31m---------------------------------------------------------------------------\u001b[0m",
      "\u001b[0;31mInvalidRequestError\u001b[0m                       Traceback (most recent call last)",
      "File \u001b[0;32m~/projects/jupyter/OpenAI/customized-openai-chat-bot/lib/ipywidgets_ui.py:58\u001b[0m, in \u001b[0;36mdisplay_new_form.<locals>.<lambda>\u001b[0;34m(x)\u001b[0m\n\u001b[1;32m     55\u001b[0m display(input_field, send_button, output_widget)\n\u001b[1;32m     57\u001b[0m send_button\u001b[39m.\u001b[39mon_click(\u001b[39mlambda\u001b[39;00m x: send_message_handler(output_widget, input_field, send_button, chat_history))\n\u001b[0;32m---> 58\u001b[0m input_field\u001b[39m.\u001b[39mon_submit(\u001b[39mlambda\u001b[39;00m x: send_message_handler(output_widget, input_field, send_button, chat_history))\n",
      "File \u001b[0;32m~/projects/jupyter/OpenAI/customized-openai-chat-bot/lib/ipywidgets_ui.py:40\u001b[0m, in \u001b[0;36msend_message_handler\u001b[0;34m(output_widget, input_widget, send_button, chat_history)\u001b[0m\n\u001b[1;32m     38\u001b[0m \u001b[39mdef\u001b[39;00m \u001b[39msend_message_handler\u001b[39m(output_widget, input_widget, send_button, chat_history):\n\u001b[1;32m     39\u001b[0m     \u001b[39mif\u001b[39;00m \u001b[39mnot\u001b[39;00m input_widget\u001b[39m.\u001b[39mdisabled:\n\u001b[0;32m---> 40\u001b[0m         display_chat_response(output_widget, input_widget, send_button, chat_history)\n",
      "File \u001b[0;32m~/projects/jupyter/OpenAI/customized-openai-chat-bot/lib/ipywidgets_ui.py:26\u001b[0m, in \u001b[0;36mdisplay_chat_response\u001b[0;34m(output_widget, input_widget, send_button, chat_history)\u001b[0m\n\u001b[1;32m     22\u001b[0m     display(widgets\u001b[39m.\u001b[39mLabel(value\u001b[39m=\u001b[39m\u001b[39m\"\u001b[39m\u001b[39m⏳ Please wait...\u001b[39m\u001b[39m\"\u001b[39m))\n\u001b[1;32m     24\u001b[0m chat_history\u001b[39m.\u001b[39mappend({\u001b[39m\"\u001b[39m\u001b[39mrole\u001b[39m\u001b[39m\"\u001b[39m: \u001b[39m\"\u001b[39m\u001b[39muser\u001b[39m\u001b[39m\"\u001b[39m, \u001b[39m\"\u001b[39m\u001b[39mcontent\u001b[39m\u001b[39m\"\u001b[39m: input_widget\u001b[39m.\u001b[39mvalue\u001b[39m.\u001b[39mstrip()})\n\u001b[0;32m---> 26\u001b[0m response \u001b[39m=\u001b[39m simulate_api_call(chat_history)\n\u001b[1;32m     27\u001b[0m chat_history\u001b[39m.\u001b[39mappend({\u001b[39m\"\u001b[39m\u001b[39mrole\u001b[39m\u001b[39m\"\u001b[39m: \u001b[39m\"\u001b[39m\u001b[39massistant\u001b[39m\u001b[39m\"\u001b[39m, \u001b[39m\"\u001b[39m\u001b[39mcontent\u001b[39m\u001b[39m\"\u001b[39m: response})\n\u001b[1;32m     29\u001b[0m \u001b[39mwith\u001b[39;00m output_widget:\n",
      "File \u001b[0;32m~/projects/jupyter/OpenAI/customized-openai-chat-bot/lib/ipywidgets_ui.py:10\u001b[0m, in \u001b[0;36msimulate_api_call\u001b[0;34m(chat_history)\u001b[0m\n\u001b[1;32m      7\u001b[0m model \u001b[39m=\u001b[39m \u001b[39m\"\u001b[39m\u001b[39mgpt-3.5-turbo\u001b[39m\u001b[39m\"\u001b[39m  \u001b[39m# Choose the model you want to use\u001b[39;00m\n\u001b[1;32m      9\u001b[0m \u001b[39m# Call the OpenAI API\u001b[39;00m\n\u001b[0;32m---> 10\u001b[0m response \u001b[39m=\u001b[39m openai\u001b[39m.\u001b[39;49mChatCompletion\u001b[39m.\u001b[39;49mcreate(\n\u001b[1;32m     11\u001b[0m     model\u001b[39m=\u001b[39;49mmodel,\n\u001b[1;32m     12\u001b[0m     messages\u001b[39m=\u001b[39;49mchat_history,\n\u001b[1;32m     13\u001b[0m     max_tokens\u001b[39m=\u001b[39;49m\u001b[39m150\u001b[39;49m,\n\u001b[1;32m     14\u001b[0m     temperature\u001b[39m=\u001b[39;49m\u001b[39m0.5\u001b[39;49m,\n\u001b[1;32m     15\u001b[0m )\n\u001b[1;32m     17\u001b[0m \u001b[39mreturn\u001b[39;00m response\u001b[39m.\u001b[39mchoices[\u001b[39m0\u001b[39m]\u001b[39m.\u001b[39mmessage[\u001b[39m'\u001b[39m\u001b[39mcontent\u001b[39m\u001b[39m'\u001b[39m]\u001b[39m.\u001b[39mstrip()\n",
      "File \u001b[0;32m~/anaconda3/envs/default-vscode-jupyter/lib/python3.11/site-packages/openai/api_resources/chat_completion.py:25\u001b[0m, in \u001b[0;36mChatCompletion.create\u001b[0;34m(cls, *args, **kwargs)\u001b[0m\n\u001b[1;32m     23\u001b[0m \u001b[39mwhile\u001b[39;00m \u001b[39mTrue\u001b[39;00m:\n\u001b[1;32m     24\u001b[0m     \u001b[39mtry\u001b[39;00m:\n\u001b[0;32m---> 25\u001b[0m         \u001b[39mreturn\u001b[39;00m \u001b[39msuper\u001b[39;49m()\u001b[39m.\u001b[39;49mcreate(\u001b[39m*\u001b[39;49margs, \u001b[39m*\u001b[39;49m\u001b[39m*\u001b[39;49mkwargs)\n\u001b[1;32m     26\u001b[0m     \u001b[39mexcept\u001b[39;00m TryAgain \u001b[39mas\u001b[39;00m e:\n\u001b[1;32m     27\u001b[0m         \u001b[39mif\u001b[39;00m timeout \u001b[39mis\u001b[39;00m \u001b[39mnot\u001b[39;00m \u001b[39mNone\u001b[39;00m \u001b[39mand\u001b[39;00m time\u001b[39m.\u001b[39mtime() \u001b[39m>\u001b[39m start \u001b[39m+\u001b[39m timeout:\n",
      "File \u001b[0;32m~/anaconda3/envs/default-vscode-jupyter/lib/python3.11/site-packages/openai/api_resources/abstract/engine_api_resource.py:153\u001b[0m, in \u001b[0;36mEngineAPIResource.create\u001b[0;34m(cls, api_key, api_base, api_type, request_id, api_version, organization, **params)\u001b[0m\n\u001b[1;32m    127\u001b[0m \u001b[39m@classmethod\u001b[39m\n\u001b[1;32m    128\u001b[0m \u001b[39mdef\u001b[39;00m \u001b[39mcreate\u001b[39m(\n\u001b[1;32m    129\u001b[0m     \u001b[39mcls\u001b[39m,\n\u001b[0;32m   (...)\u001b[0m\n\u001b[1;32m    136\u001b[0m     \u001b[39m*\u001b[39m\u001b[39m*\u001b[39mparams,\n\u001b[1;32m    137\u001b[0m ):\n\u001b[1;32m    138\u001b[0m     (\n\u001b[1;32m    139\u001b[0m         deployment_id,\n\u001b[1;32m    140\u001b[0m         engine,\n\u001b[0;32m   (...)\u001b[0m\n\u001b[1;32m    150\u001b[0m         api_key, api_base, api_type, api_version, organization, \u001b[39m*\u001b[39m\u001b[39m*\u001b[39mparams\n\u001b[1;32m    151\u001b[0m     )\n\u001b[0;32m--> 153\u001b[0m     response, _, api_key \u001b[39m=\u001b[39m requestor\u001b[39m.\u001b[39;49mrequest(\n\u001b[1;32m    154\u001b[0m         \u001b[39m\"\u001b[39;49m\u001b[39mpost\u001b[39;49m\u001b[39m\"\u001b[39;49m,\n\u001b[1;32m    155\u001b[0m         url,\n\u001b[1;32m    156\u001b[0m         params\u001b[39m=\u001b[39;49mparams,\n\u001b[1;32m    157\u001b[0m         headers\u001b[39m=\u001b[39;49mheaders,\n\u001b[1;32m    158\u001b[0m         stream\u001b[39m=\u001b[39;49mstream,\n\u001b[1;32m    159\u001b[0m         request_id\u001b[39m=\u001b[39;49mrequest_id,\n\u001b[1;32m    160\u001b[0m         request_timeout\u001b[39m=\u001b[39;49mrequest_timeout,\n\u001b[1;32m    161\u001b[0m     )\n\u001b[1;32m    163\u001b[0m     \u001b[39mif\u001b[39;00m stream:\n\u001b[1;32m    164\u001b[0m         \u001b[39m# must be an iterator\u001b[39;00m\n\u001b[1;32m    165\u001b[0m         \u001b[39massert\u001b[39;00m \u001b[39mnot\u001b[39;00m \u001b[39misinstance\u001b[39m(response, OpenAIResponse)\n",
      "File \u001b[0;32m~/anaconda3/envs/default-vscode-jupyter/lib/python3.11/site-packages/openai/api_requestor.py:226\u001b[0m, in \u001b[0;36mAPIRequestor.request\u001b[0;34m(self, method, url, params, headers, files, stream, request_id, request_timeout)\u001b[0m\n\u001b[1;32m    205\u001b[0m \u001b[39mdef\u001b[39;00m \u001b[39mrequest\u001b[39m(\n\u001b[1;32m    206\u001b[0m     \u001b[39mself\u001b[39m,\n\u001b[1;32m    207\u001b[0m     method,\n\u001b[0;32m   (...)\u001b[0m\n\u001b[1;32m    214\u001b[0m     request_timeout: Optional[Union[\u001b[39mfloat\u001b[39m, Tuple[\u001b[39mfloat\u001b[39m, \u001b[39mfloat\u001b[39m]]] \u001b[39m=\u001b[39m \u001b[39mNone\u001b[39;00m,\n\u001b[1;32m    215\u001b[0m ) \u001b[39m-\u001b[39m\u001b[39m>\u001b[39m Tuple[Union[OpenAIResponse, Iterator[OpenAIResponse]], \u001b[39mbool\u001b[39m, \u001b[39mstr\u001b[39m]:\n\u001b[1;32m    216\u001b[0m     result \u001b[39m=\u001b[39m \u001b[39mself\u001b[39m\u001b[39m.\u001b[39mrequest_raw(\n\u001b[1;32m    217\u001b[0m         method\u001b[39m.\u001b[39mlower(),\n\u001b[1;32m    218\u001b[0m         url,\n\u001b[0;32m   (...)\u001b[0m\n\u001b[1;32m    224\u001b[0m         request_timeout\u001b[39m=\u001b[39mrequest_timeout,\n\u001b[1;32m    225\u001b[0m     )\n\u001b[0;32m--> 226\u001b[0m     resp, got_stream \u001b[39m=\u001b[39m \u001b[39mself\u001b[39;49m\u001b[39m.\u001b[39;49m_interpret_response(result, stream)\n\u001b[1;32m    227\u001b[0m     \u001b[39mreturn\u001b[39;00m resp, got_stream, \u001b[39mself\u001b[39m\u001b[39m.\u001b[39mapi_key\n",
      "File \u001b[0;32m~/anaconda3/envs/default-vscode-jupyter/lib/python3.11/site-packages/openai/api_requestor.py:619\u001b[0m, in \u001b[0;36mAPIRequestor._interpret_response\u001b[0;34m(self, result, stream)\u001b[0m\n\u001b[1;32m    611\u001b[0m     \u001b[39mreturn\u001b[39;00m (\n\u001b[1;32m    612\u001b[0m         \u001b[39mself\u001b[39m\u001b[39m.\u001b[39m_interpret_response_line(\n\u001b[1;32m    613\u001b[0m             line, result\u001b[39m.\u001b[39mstatus_code, result\u001b[39m.\u001b[39mheaders, stream\u001b[39m=\u001b[39m\u001b[39mTrue\u001b[39;00m\n\u001b[1;32m    614\u001b[0m         )\n\u001b[1;32m    615\u001b[0m         \u001b[39mfor\u001b[39;00m line \u001b[39min\u001b[39;00m parse_stream(result\u001b[39m.\u001b[39miter_lines())\n\u001b[1;32m    616\u001b[0m     ), \u001b[39mTrue\u001b[39;00m\n\u001b[1;32m    617\u001b[0m \u001b[39melse\u001b[39;00m:\n\u001b[1;32m    618\u001b[0m     \u001b[39mreturn\u001b[39;00m (\n\u001b[0;32m--> 619\u001b[0m         \u001b[39mself\u001b[39;49m\u001b[39m.\u001b[39;49m_interpret_response_line(\n\u001b[1;32m    620\u001b[0m             result\u001b[39m.\u001b[39;49mcontent\u001b[39m.\u001b[39;49mdecode(\u001b[39m\"\u001b[39;49m\u001b[39mutf-8\u001b[39;49m\u001b[39m\"\u001b[39;49m),\n\u001b[1;32m    621\u001b[0m             result\u001b[39m.\u001b[39;49mstatus_code,\n\u001b[1;32m    622\u001b[0m             result\u001b[39m.\u001b[39;49mheaders,\n\u001b[1;32m    623\u001b[0m             stream\u001b[39m=\u001b[39;49m\u001b[39mFalse\u001b[39;49;00m,\n\u001b[1;32m    624\u001b[0m         ),\n\u001b[1;32m    625\u001b[0m         \u001b[39mFalse\u001b[39;00m,\n\u001b[1;32m    626\u001b[0m     )\n",
      "File \u001b[0;32m~/anaconda3/envs/default-vscode-jupyter/lib/python3.11/site-packages/openai/api_requestor.py:682\u001b[0m, in \u001b[0;36mAPIRequestor._interpret_response_line\u001b[0;34m(self, rbody, rcode, rheaders, stream)\u001b[0m\n\u001b[1;32m    680\u001b[0m stream_error \u001b[39m=\u001b[39m stream \u001b[39mand\u001b[39;00m \u001b[39m\"\u001b[39m\u001b[39merror\u001b[39m\u001b[39m\"\u001b[39m \u001b[39min\u001b[39;00m resp\u001b[39m.\u001b[39mdata\n\u001b[1;32m    681\u001b[0m \u001b[39mif\u001b[39;00m stream_error \u001b[39mor\u001b[39;00m \u001b[39mnot\u001b[39;00m \u001b[39m200\u001b[39m \u001b[39m<\u001b[39m\u001b[39m=\u001b[39m rcode \u001b[39m<\u001b[39m \u001b[39m300\u001b[39m:\n\u001b[0;32m--> 682\u001b[0m     \u001b[39mraise\u001b[39;00m \u001b[39mself\u001b[39m\u001b[39m.\u001b[39mhandle_error_response(\n\u001b[1;32m    683\u001b[0m         rbody, rcode, resp\u001b[39m.\u001b[39mdata, rheaders, stream_error\u001b[39m=\u001b[39mstream_error\n\u001b[1;32m    684\u001b[0m     )\n\u001b[1;32m    685\u001b[0m \u001b[39mreturn\u001b[39;00m resp\n",
      "\u001b[0;31mInvalidRequestError\u001b[0m: [{'role': 'system', 'content': 'You are a friendly clerk at a hardware store.'}] is not of type 'object' - 'messages.0'"
     ]
    }
   ],
   "source": [
    "# Display the initial form\n",
    "from lib import ipywidgets_ui\n",
    "\n",
    "\n",
    "# Start the chat with an initial system message\n",
    "initial_system_message = {\"role\": \"system\", \"content\": system_prompt}\n",
    "ipywidgets_ui.display_new_form([initial_system_message])\n"
   ]
  }
 ],
 "metadata": {
  "kernelspec": {
   "display_name": "default-vscode-jupyter",
   "language": "python",
   "name": "python3"
  },
  "language_info": {
   "codemirror_mode": {
    "name": "ipython",
    "version": 3
   },
   "file_extension": ".py",
   "mimetype": "text/x-python",
   "name": "python",
   "nbconvert_exporter": "python",
   "pygments_lexer": "ipython3",
   "version": "3.11.2"
  },
  "orig_nbformat": 4
 },
 "nbformat": 4,
 "nbformat_minor": 2
}
