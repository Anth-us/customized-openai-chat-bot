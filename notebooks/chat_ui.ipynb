{
 "cells": [
  {
   "attachments": {},
   "cell_type": "markdown",
   "metadata": {},
   "source": [
    "# Chat UI\n",
    "This notebook demonstrates how to set up a chat with a system prompt that sets the context for the conversation."
   ]
  },
  {
   "attachments": {},
   "cell_type": "markdown",
   "metadata": {},
   "source": [
    "## Setup\n",
    "\n",
    "### Install packages\n",
    "First, install the required Python packages."
   ]
  },
  {
   "cell_type": "code",
   "execution_count": 2,
   "metadata": {},
   "outputs": [
    {
     "name": "stdout",
     "output_type": "stream",
     "text": [
      "Requirement already satisfied: openai in /Users/work/anaconda3/envs/default-vscode-jupyter/lib/python3.11/site-packages (from -r ../requirements.txt (line 1)) (0.27.2)\n",
      "Requirement already satisfied: ipywidgets in /Users/work/anaconda3/envs/default-vscode-jupyter/lib/python3.11/site-packages (from -r ../requirements.txt (line 2)) (8.0.6)\n",
      "Requirement already satisfied: requests>=2.20 in /Users/work/anaconda3/envs/default-vscode-jupyter/lib/python3.11/site-packages (from openai->-r ../requirements.txt (line 1)) (2.28.2)\n",
      "Requirement already satisfied: tqdm in /Users/work/anaconda3/envs/default-vscode-jupyter/lib/python3.11/site-packages (from openai->-r ../requirements.txt (line 1)) (4.65.0)\n",
      "Requirement already satisfied: aiohttp in /Users/work/anaconda3/envs/default-vscode-jupyter/lib/python3.11/site-packages (from openai->-r ../requirements.txt (line 1)) (3.8.4)\n",
      "Requirement already satisfied: ipykernel>=4.5.1 in /Users/work/anaconda3/envs/default-vscode-jupyter/lib/python3.11/site-packages (from ipywidgets->-r ../requirements.txt (line 2)) (6.22.0)\n",
      "Requirement already satisfied: ipython>=6.1.0 in /Users/work/anaconda3/envs/default-vscode-jupyter/lib/python3.11/site-packages (from ipywidgets->-r ../requirements.txt (line 2)) (8.12.0)\n",
      "Requirement already satisfied: traitlets>=4.3.1 in /Users/work/anaconda3/envs/default-vscode-jupyter/lib/python3.11/site-packages (from ipywidgets->-r ../requirements.txt (line 2)) (5.9.0)\n",
      "Requirement already satisfied: widgetsnbextension~=4.0.7 in /Users/work/anaconda3/envs/default-vscode-jupyter/lib/python3.11/site-packages (from ipywidgets->-r ../requirements.txt (line 2)) (4.0.7)\n",
      "Requirement already satisfied: jupyterlab-widgets~=3.0.7 in /Users/work/anaconda3/envs/default-vscode-jupyter/lib/python3.11/site-packages (from ipywidgets->-r ../requirements.txt (line 2)) (3.0.7)\n",
      "Requirement already satisfied: appnope in /Users/work/anaconda3/envs/default-vscode-jupyter/lib/python3.11/site-packages (from ipykernel>=4.5.1->ipywidgets->-r ../requirements.txt (line 2)) (0.1.3)\n",
      "Requirement already satisfied: comm>=0.1.1 in /Users/work/anaconda3/envs/default-vscode-jupyter/lib/python3.11/site-packages (from ipykernel>=4.5.1->ipywidgets->-r ../requirements.txt (line 2)) (0.1.3)\n",
      "Requirement already satisfied: debugpy>=1.6.5 in /Users/work/anaconda3/envs/default-vscode-jupyter/lib/python3.11/site-packages (from ipykernel>=4.5.1->ipywidgets->-r ../requirements.txt (line 2)) (1.6.6)\n",
      "Requirement already satisfied: jupyter-client>=6.1.12 in /Users/work/anaconda3/envs/default-vscode-jupyter/lib/python3.11/site-packages (from ipykernel>=4.5.1->ipywidgets->-r ../requirements.txt (line 2)) (8.1.0)\n",
      "Requirement already satisfied: jupyter-core!=5.0.*,>=4.12 in /Users/work/anaconda3/envs/default-vscode-jupyter/lib/python3.11/site-packages (from ipykernel>=4.5.1->ipywidgets->-r ../requirements.txt (line 2)) (5.3.0)\n",
      "Requirement already satisfied: matplotlib-inline>=0.1 in /Users/work/anaconda3/envs/default-vscode-jupyter/lib/python3.11/site-packages (from ipykernel>=4.5.1->ipywidgets->-r ../requirements.txt (line 2)) (0.1.6)\n",
      "Requirement already satisfied: nest-asyncio in /Users/work/anaconda3/envs/default-vscode-jupyter/lib/python3.11/site-packages (from ipykernel>=4.5.1->ipywidgets->-r ../requirements.txt (line 2)) (1.5.6)\n",
      "Requirement already satisfied: packaging in /Users/work/anaconda3/envs/default-vscode-jupyter/lib/python3.11/site-packages (from ipykernel>=4.5.1->ipywidgets->-r ../requirements.txt (line 2)) (23.0)\n",
      "Requirement already satisfied: psutil in /Users/work/anaconda3/envs/default-vscode-jupyter/lib/python3.11/site-packages (from ipykernel>=4.5.1->ipywidgets->-r ../requirements.txt (line 2)) (5.9.4)\n",
      "Requirement already satisfied: pyzmq>=20 in /Users/work/anaconda3/envs/default-vscode-jupyter/lib/python3.11/site-packages (from ipykernel>=4.5.1->ipywidgets->-r ../requirements.txt (line 2)) (25.0.2)\n",
      "Requirement already satisfied: tornado>=6.1 in /Users/work/anaconda3/envs/default-vscode-jupyter/lib/python3.11/site-packages (from ipykernel>=4.5.1->ipywidgets->-r ../requirements.txt (line 2)) (6.2)\n",
      "Requirement already satisfied: backcall in /Users/work/anaconda3/envs/default-vscode-jupyter/lib/python3.11/site-packages (from ipython>=6.1.0->ipywidgets->-r ../requirements.txt (line 2)) (0.2.0)\n",
      "Requirement already satisfied: decorator in /Users/work/anaconda3/envs/default-vscode-jupyter/lib/python3.11/site-packages (from ipython>=6.1.0->ipywidgets->-r ../requirements.txt (line 2)) (5.1.1)\n",
      "Requirement already satisfied: jedi>=0.16 in /Users/work/anaconda3/envs/default-vscode-jupyter/lib/python3.11/site-packages (from ipython>=6.1.0->ipywidgets->-r ../requirements.txt (line 2)) (0.18.2)\n",
      "Requirement already satisfied: pickleshare in /Users/work/anaconda3/envs/default-vscode-jupyter/lib/python3.11/site-packages (from ipython>=6.1.0->ipywidgets->-r ../requirements.txt (line 2)) (0.7.5)\n",
      "Requirement already satisfied: prompt-toolkit!=3.0.37,<3.1.0,>=3.0.30 in /Users/work/anaconda3/envs/default-vscode-jupyter/lib/python3.11/site-packages (from ipython>=6.1.0->ipywidgets->-r ../requirements.txt (line 2)) (3.0.38)\n",
      "Requirement already satisfied: pygments>=2.4.0 in /Users/work/anaconda3/envs/default-vscode-jupyter/lib/python3.11/site-packages (from ipython>=6.1.0->ipywidgets->-r ../requirements.txt (line 2)) (2.14.0)\n",
      "Requirement already satisfied: stack-data in /Users/work/anaconda3/envs/default-vscode-jupyter/lib/python3.11/site-packages (from ipython>=6.1.0->ipywidgets->-r ../requirements.txt (line 2)) (0.6.2)\n",
      "Requirement already satisfied: pexpect>4.3 in /Users/work/anaconda3/envs/default-vscode-jupyter/lib/python3.11/site-packages (from ipython>=6.1.0->ipywidgets->-r ../requirements.txt (line 2)) (4.8.0)\n",
      "Requirement already satisfied: charset-normalizer<4,>=2 in /Users/work/anaconda3/envs/default-vscode-jupyter/lib/python3.11/site-packages (from requests>=2.20->openai->-r ../requirements.txt (line 1)) (3.1.0)\n",
      "Requirement already satisfied: idna<4,>=2.5 in /Users/work/anaconda3/envs/default-vscode-jupyter/lib/python3.11/site-packages (from requests>=2.20->openai->-r ../requirements.txt (line 1)) (3.4)\n",
      "Requirement already satisfied: urllib3<1.27,>=1.21.1 in /Users/work/anaconda3/envs/default-vscode-jupyter/lib/python3.11/site-packages (from requests>=2.20->openai->-r ../requirements.txt (line 1)) (1.26.15)\n",
      "Requirement already satisfied: certifi>=2017.4.17 in /Users/work/anaconda3/envs/default-vscode-jupyter/lib/python3.11/site-packages (from requests>=2.20->openai->-r ../requirements.txt (line 1)) (2022.12.7)\n",
      "Requirement already satisfied: attrs>=17.3.0 in /Users/work/anaconda3/envs/default-vscode-jupyter/lib/python3.11/site-packages (from aiohttp->openai->-r ../requirements.txt (line 1)) (22.2.0)\n",
      "Requirement already satisfied: multidict<7.0,>=4.5 in /Users/work/anaconda3/envs/default-vscode-jupyter/lib/python3.11/site-packages (from aiohttp->openai->-r ../requirements.txt (line 1)) (6.0.4)\n",
      "Requirement already satisfied: async-timeout<5.0,>=4.0.0a3 in /Users/work/anaconda3/envs/default-vscode-jupyter/lib/python3.11/site-packages (from aiohttp->openai->-r ../requirements.txt (line 1)) (4.0.2)\n",
      "Requirement already satisfied: yarl<2.0,>=1.0 in /Users/work/anaconda3/envs/default-vscode-jupyter/lib/python3.11/site-packages (from aiohttp->openai->-r ../requirements.txt (line 1)) (1.8.2)\n",
      "Requirement already satisfied: frozenlist>=1.1.1 in /Users/work/anaconda3/envs/default-vscode-jupyter/lib/python3.11/site-packages (from aiohttp->openai->-r ../requirements.txt (line 1)) (1.3.3)\n",
      "Requirement already satisfied: aiosignal>=1.1.2 in /Users/work/anaconda3/envs/default-vscode-jupyter/lib/python3.11/site-packages (from aiohttp->openai->-r ../requirements.txt (line 1)) (1.3.1)\n",
      "Requirement already satisfied: parso<0.9.0,>=0.8.0 in /Users/work/anaconda3/envs/default-vscode-jupyter/lib/python3.11/site-packages (from jedi>=0.16->ipython>=6.1.0->ipywidgets->-r ../requirements.txt (line 2)) (0.8.3)\n",
      "Requirement already satisfied: python-dateutil>=2.8.2 in /Users/work/anaconda3/envs/default-vscode-jupyter/lib/python3.11/site-packages (from jupyter-client>=6.1.12->ipykernel>=4.5.1->ipywidgets->-r ../requirements.txt (line 2)) (2.8.2)\n",
      "Requirement already satisfied: platformdirs>=2.5 in /Users/work/anaconda3/envs/default-vscode-jupyter/lib/python3.11/site-packages (from jupyter-core!=5.0.*,>=4.12->ipykernel>=4.5.1->ipywidgets->-r ../requirements.txt (line 2)) (3.2.0)\n",
      "Requirement already satisfied: ptyprocess>=0.5 in /Users/work/anaconda3/envs/default-vscode-jupyter/lib/python3.11/site-packages (from pexpect>4.3->ipython>=6.1.0->ipywidgets->-r ../requirements.txt (line 2)) (0.7.0)\n",
      "Requirement already satisfied: wcwidth in /Users/work/anaconda3/envs/default-vscode-jupyter/lib/python3.11/site-packages (from prompt-toolkit!=3.0.37,<3.1.0,>=3.0.30->ipython>=6.1.0->ipywidgets->-r ../requirements.txt (line 2)) (0.2.6)\n",
      "Requirement already satisfied: executing>=1.2.0 in /Users/work/anaconda3/envs/default-vscode-jupyter/lib/python3.11/site-packages (from stack-data->ipython>=6.1.0->ipywidgets->-r ../requirements.txt (line 2)) (1.2.0)\n",
      "Requirement already satisfied: asttokens>=2.1.0 in /Users/work/anaconda3/envs/default-vscode-jupyter/lib/python3.11/site-packages (from stack-data->ipython>=6.1.0->ipywidgets->-r ../requirements.txt (line 2)) (2.2.1)\n",
      "Requirement already satisfied: pure-eval in /Users/work/anaconda3/envs/default-vscode-jupyter/lib/python3.11/site-packages (from stack-data->ipython>=6.1.0->ipywidgets->-r ../requirements.txt (line 2)) (0.2.2)\n",
      "Requirement already satisfied: six in /Users/work/anaconda3/envs/default-vscode-jupyter/lib/python3.11/site-packages (from asttokens>=2.1.0->stack-data->ipython>=6.1.0->ipywidgets->-r ../requirements.txt (line 2)) (1.16.0)\n"
     ]
    }
   ],
   "source": [
    "# Install all required PIP packages.\n",
    "!pip install -r ../requirements.txt"
   ]
  },
  {
   "attachments": {},
   "cell_type": "markdown",
   "metadata": {},
   "source": [
    "### Run all diagnostic tests\n",
    "This checks the code in the project to ensure that it works, before running it for real.  This includes code for things like: loading the OpenAI API key."
   ]
  },
  {
   "cell_type": "code",
   "execution_count": 3,
   "metadata": {},
   "outputs": [
    {
     "name": "stderr",
     "output_type": "stream",
     "text": [
      ".....\n",
      "----------------------------------------------------------------------\n",
      "Ran 5 tests in 0.011s\n",
      "\n",
      "OK\n"
     ]
    },
    {
     "data": {
      "text/plain": [
       "<unittest.runner.TextTestResult run=5 errors=0 failures=0>"
      ]
     },
     "execution_count": 3,
     "metadata": {},
     "output_type": "execute_result"
    }
   ],
   "source": [
    "import sys\n",
    "import os\n",
    "import unittest\n",
    "from pathlib import Path\n",
    "\n",
    "# Add the tests directory to the Python path\n",
    "project_root = str(Path.cwd().parent)\n",
    "if project_root not in sys.path:\n",
    "    sys.path.insert(0, project_root)\n",
    "\n",
    "# Use the unittest module to discover and run all tests in the directory\n",
    "test_suite = unittest.defaultTestLoader.discover('tests')\n",
    "unittest.TextTestRunner().run(test_suite)"
   ]
  },
  {
   "attachments": {},
   "cell_type": "markdown",
   "metadata": {},
   "source": [
    "### Load OpenAI API key\n",
    "Next, load the key from `config/openai_api_key.txt`.  The code will validate that the file contains something that looks like a valid key, but it will not test the key against the API.  It also supports the shared location `~/.openai/api_key.txt`, if you have multiple projects like this that need to use that key."
   ]
  },
  {
   "cell_type": "code",
   "execution_count": 4,
   "metadata": {},
   "outputs": [
    {
     "name": "stdout",
     "output_type": "stream",
     "text": [
      "✅ Loaded OpenAI API key.\n"
     ]
    }
   ],
   "source": [
    "import openai\n",
    "\n",
    "# Load the module for loading the OpenAI key.\n",
    "from lib import load_openai_api_key\n",
    "\n",
    "# Load the OpenAI key.\n",
    "openai.api_key = load_openai_api_key.load_openai_api_key()\n",
    "\n",
    "print(\"✅ Loaded OpenAI API key.\")"
   ]
  },
  {
   "attachments": {},
   "cell_type": "markdown",
   "metadata": {},
   "source": [
    "### Read the system prompt\n",
    "Load the [system_prompts/default.txt](system_prompts/default.txt) file by default."
   ]
  },
  {
   "cell_type": "code",
   "execution_count": 5,
   "metadata": {},
   "outputs": [
    {
     "name": "stderr",
     "output_type": "stream",
     "text": [
      "/var/folders/h3/dtbb257n7vq6g581jnmlpnwc0000gn/T/ipykernel_37693/3337751083.py:3: DeprecationWarning: Importing display from IPython.core.display is deprecated since IPython 7.14, please import from IPython display\n",
      "  from IPython.core.display import HTML, display\n"
     ]
    },
    {
     "data": {
      "application/vnd.jupyter.widget-view+json": {
       "model_id": "9aa85bbda17d4181bc4db47c7a0382d9",
       "version_major": 2,
       "version_minor": 0
      },
      "text/plain": [
       "Output(layout=Layout(margin='0px 20px 0px 20px', max_height='300px'))"
      ]
     },
     "metadata": {},
     "output_type": "display_data"
    }
   ],
   "source": [
    "import os\n",
    "import ipywidgets\n",
    "from IPython.core.display import HTML, display\n",
    "\n",
    "# Read the system prompt from system_prompt.txt\n",
    "current_dir = os.path.abspath(os.getcwd())  # Get the current working directory\n",
    "system_prompts_dir = os.path.join(current_dir, '..', 'system_prompts')  # Move to the parallel folder\n",
    "system_prompt_file = os.path.join(system_prompts_dir, 'default.txt')  # Join the file path\n",
    "\n",
    "# Define the default base prompt and user input prompt\n",
    "with open(system_prompt_file, 'r') as f:\n",
    "    system_prompt = f.read().strip()\n",
    "\n",
    "loading_openai_key_widget = ipywidgets.Output()\n",
    "loading_openai_key_widget.layout.margin = \"0px 20px 0px 20px\"\n",
    "loading_openai_key_widget.layout.overflow_y = \"scroll\"\n",
    "loading_openai_key_widget.layout.max_height = \"300px\"\n",
    "display(loading_openai_key_widget)\n",
    "\n",
    "with loading_openai_key_widget:\n",
    "    display(HTML('<h1>System prompt</h1>'))\n",
    "    display(HTML('<p>' + system_prompt + '</p>'))\n"
   ]
  },
  {
   "attachments": {},
   "cell_type": "markdown",
   "metadata": {},
   "source": [
    "## Chat session\n",
    "Here's where you can start a chat."
   ]
  },
  {
   "cell_type": "code",
   "execution_count": 8,
   "metadata": {},
   "outputs": [
    {
     "ename": "NameError",
     "evalue": "name 'display_new_form' is not defined",
     "output_type": "error",
     "traceback": [
      "\u001b[0;31m---------------------------------------------------------------------------\u001b[0m",
      "\u001b[0;31mNameError\u001b[0m                                 Traceback (most recent call last)",
      "Cell \u001b[0;32mIn[8], line 5\u001b[0m\n\u001b[1;32m      2\u001b[0m \u001b[39mfrom\u001b[39;00m \u001b[39mlib\u001b[39;00m \u001b[39mimport\u001b[39;00m ipywidgets_ui\n\u001b[1;32m      4\u001b[0m \u001b[39m# Display the initial form\u001b[39;00m\n\u001b[0;32m----> 5\u001b[0m display_new_form()\n",
      "\u001b[0;31mNameError\u001b[0m: name 'display_new_form' is not defined"
     ]
    }
   ],
   "source": [
    "# Load the module for managing the UI in this notebook using ipywidgets.\n",
    "from lib import ipywidgets_ui\n",
    "\n",
    "# Display the initial form\n",
    "ipywidgets_ui.display_new_form()"
   ]
  }
 ],
 "metadata": {
  "kernelspec": {
   "display_name": "default-vscode-jupyter",
   "language": "python",
   "name": "python3"
  },
  "language_info": {
   "codemirror_mode": {
    "name": "ipython",
    "version": 3
   },
   "file_extension": ".py",
   "mimetype": "text/x-python",
   "name": "python",
   "nbconvert_exporter": "python",
   "pygments_lexer": "ipython3",
   "version": "3.11.2"
  },
  "orig_nbformat": 4
 },
 "nbformat": 4,
 "nbformat_minor": 2
}
